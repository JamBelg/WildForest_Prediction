{
 "cells": [
  {
   "cell_type": "code",
   "execution_count": 1,
   "metadata": {},
   "outputs": [],
   "source": [
    "import tensorflow as tf\n",
    "\n",
    "from tensorflow.keras import optimizers, regularizers\n",
    "from tensorflow.keras.utils import load_img, img_to_array\n",
    "from tensorflow.keras.models import Sequential\n",
    "from tensorflow.keras.layers import Dense, Flatten, Dropout, BatchNormalization, Conv2D, MaxPooling2D\n",
    "from tensorflow.keras.preprocessing.image import ImageDataGenerator\n",
    "from tensorflow.keras.callbacks import ModelCheckpoint, EarlyStopping\n",
    "\n",
    "import numpy as np\n",
    "import matplotlib.pyplot as plt\n",
    "\n",
    "import cv2\n",
    "import os\n",
    "import pandas as pd"
   ]
  },
  {
   "cell_type": "code",
   "execution_count": 2,
   "metadata": {},
   "outputs": [
    {
     "name": "stdout",
     "output_type": "stream",
     "text": [
      "Found 30250 images belonging to 2 classes.\n",
      "Found 6300 images belonging to 2 classes.\n",
      "Found 6300 images belonging to 2 classes.\n"
     ]
    }
   ],
   "source": [
    "train_path = 'data/train'\n",
    "test_path = 'data/test'\n",
    "valid_path = 'data/valid'\n",
    "\n",
    "image_shape = (350,350,3)\n",
    "N_CLASSES = 2\n",
    "BATCH_SIZE = 256\n",
    "\n",
    "# loading training data and rescaling it using ImageDataGenerator\n",
    "train_datagen = ImageDataGenerator(dtype='float32', rescale= 1./255.)\n",
    "train_generator = train_datagen.flow_from_directory(train_path,\n",
    "                                                   batch_size = BATCH_SIZE,\n",
    "                                                   target_size = (350,350),\n",
    "                                                   class_mode = 'categorical',\n",
    "                                                   shuffle = True)\n",
    "\n",
    "# loading validation data and rescaling it using ImageDataGenerator\n",
    "valid_datagen = ImageDataGenerator(dtype='float32', rescale= 1./255.)\n",
    "valid_generator = valid_datagen.flow_from_directory(valid_path,\n",
    "                                                   batch_size = BATCH_SIZE,\n",
    "                                                   target_size = (350,350),\n",
    "                                                   class_mode = 'categorical',\n",
    "                                                   shuffle = True)\n",
    "\n",
    "# loading test data and rescaling it using ImageDataGenerator\n",
    "test_datagen = ImageDataGenerator(dtype='float32', rescale = 1.0/255.0)\n",
    "test_generator = test_datagen.flow_from_directory(test_path,\n",
    "                                                   batch_size = BATCH_SIZE,\n",
    "                                                   target_size = (350,350),\n",
    "                                                   class_mode = 'categorical',\n",
    "                                                   shuffle = False)"
   ]
  },
  {
   "cell_type": "code",
   "execution_count": 3,
   "metadata": {},
   "outputs": [
    {
     "name": "stdout",
     "output_type": "stream",
     "text": [
      "Model: \"sequential\"\n",
      "_________________________________________________________________\n",
      " Layer (type)                Output Shape              Param #   \n",
      "=================================================================\n",
      " conv2d (Conv2D)             (None, 349, 349, 8)       104       \n",
      "                                                                 \n",
      " max_pooling2d (MaxPooling2D  (None, 174, 174, 8)      0         \n",
      " )                                                               \n",
      "                                                                 \n",
      " conv2d_1 (Conv2D)           (None, 173, 173, 16)      528       \n",
      "                                                                 \n",
      " max_pooling2d_1 (MaxPooling  (None, 86, 86, 16)       0         \n",
      " 2D)                                                             \n",
      "                                                                 \n",
      " conv2d_2 (Conv2D)           (None, 85, 85, 32)        2080      \n",
      "                                                                 \n",
      " max_pooling2d_2 (MaxPooling  (None, 42, 42, 32)       0         \n",
      " 2D)                                                             \n",
      "                                                                 \n",
      " dropout (Dropout)           (None, 42, 42, 32)        0         \n",
      "                                                                 \n",
      " flatten (Flatten)           (None, 56448)             0         \n",
      "                                                                 \n",
      " dense (Dense)               (None, 300)               16934700  \n",
      "                                                                 \n",
      " dropout_1 (Dropout)         (None, 300)               0         \n",
      "                                                                 \n",
      " dense_1 (Dense)             (None, 2)                 602       \n",
      "                                                                 \n",
      "=================================================================\n",
      "Total params: 16,938,014\n",
      "Trainable params: 16,938,014\n",
      "Non-trainable params: 0\n",
      "_________________________________________________________________\n"
     ]
    }
   ],
   "source": [
    "# defining the coefficient that our regularizer will use\n",
    "weight_decay = 1e-3\n",
    "\n",
    "# building a sequential CNN model and adding layers to it\n",
    "# dropout and the regularizer are used in general to prevent overfitting\n",
    "first_model = Sequential([\n",
    "    Conv2D(filters = 8 , kernel_size = 2, activation = 'relu', \n",
    "    input_shape = image_shape), MaxPooling2D(pool_size = 2),\n",
    "    \n",
    "    Conv2D(filters = 16 , kernel_size = 2, activation = 'relu', \n",
    "    input_shape = image_shape), MaxPooling2D(pool_size = 2),\n",
    "    \n",
    "    Conv2D(filters = 32 , kernel_size = 2, activation = 'relu',\n",
    "           kernel_regularizer = regularizers.l2(weight_decay)),\n",
    "    MaxPooling2D(pool_size = 2),\n",
    "    \n",
    "    Dropout(0.4),\n",
    "    Flatten(),\n",
    "    Dense(300,activation='relu'),\n",
    "    Dropout(0.5),\n",
    "    Dense(2,activation='softmax')\n",
    "])\n",
    "# showing the summary of our model (layers and number of parameters)\n",
    "first_model.summary()"
   ]
  },
  {
   "cell_type": "code",
   "execution_count": 4,
   "metadata": {},
   "outputs": [
    {
     "name": "stdout",
     "output_type": "stream",
     "text": [
      "Epoch 1/5\n"
     ]
    },
    {
     "name": "stderr",
     "output_type": "stream",
     "text": [
      "2023-08-31 09:45:19.936112: W tensorflow/core/platform/profile_utils/cpu_utils.cc:128] Failed to get CPU frequency: 0 Hz\n"
     ]
    },
    {
     "name": "stdout",
     "output_type": "stream",
     "text": [
      "119/119 [==============================] - ETA: 0s - loss: 0.6009 - auc: 0.8003 - acc: 0.6815\n",
      "Epoch 1: val_loss improved from inf to 0.45137, saving model to first_model.hdf5\n",
      "119/119 [==============================] - 135s 1s/step - loss: 0.6009 - auc: 0.8003 - acc: 0.6815 - val_loss: 0.4514 - val_auc: 0.9409 - val_acc: 0.8805\n",
      "Epoch 2/5\n",
      "119/119 [==============================] - ETA: 0s - loss: 0.3822 - auc: 0.9404 - acc: 0.8801\n",
      "Epoch 2: val_loss improved from 0.45137 to 0.30627, saving model to first_model.hdf5\n",
      "119/119 [==============================] - 134s 1s/step - loss: 0.3822 - auc: 0.9404 - acc: 0.8801 - val_loss: 0.3063 - val_auc: 0.9622 - val_acc: 0.9016\n",
      "Epoch 3/5\n",
      "119/119 [==============================] - ETA: 0s - loss: 0.3089 - auc: 0.9532 - acc: 0.8907\n",
      "Epoch 3: val_loss improved from 0.30627 to 0.26763, saving model to first_model.hdf5\n",
      "119/119 [==============================] - 135s 1s/step - loss: 0.3089 - auc: 0.9532 - acc: 0.8907 - val_loss: 0.2676 - val_auc: 0.9671 - val_acc: 0.9035\n",
      "Epoch 4/5\n",
      "119/119 [==============================] - ETA: 0s - loss: 0.2867 - auc: 0.9579 - acc: 0.8953\n",
      "Epoch 4: val_loss improved from 0.26763 to 0.25326, saving model to first_model.hdf5\n",
      "119/119 [==============================] - 136s 1s/step - loss: 0.2867 - auc: 0.9579 - acc: 0.8953 - val_loss: 0.2533 - val_auc: 0.9696 - val_acc: 0.9071\n",
      "Epoch 5/5\n",
      "119/119 [==============================] - ETA: 0s - loss: 0.2756 - auc: 0.9610 - acc: 0.8984\n",
      "Epoch 5: val_loss did not improve from 0.25326\n",
      "119/119 [==============================] - 137s 1s/step - loss: 0.2756 - auc: 0.9610 - acc: 0.8984 - val_loss: 0.2585 - val_auc: 0.9671 - val_acc: 0.9063\n"
     ]
    }
   ],
   "source": [
    "# don't stop everything if an image didn't load correctly\n",
    "from PIL import ImageFile\n",
    "ImageFile.LOAD_TRUNCATED_IMAGES = True\n",
    "\n",
    "# checkpointer to save the model only if it improved\n",
    "checkpointer = ModelCheckpoint('first_model.hdf5',verbose=1, save_best_only= True)\n",
    "# early stopping to stop the training if our validation loss didn't decrease for (10) consecutive epochs\n",
    "early_stopping = EarlyStopping(monitor= 'val_loss', patience= 10)\n",
    "# Adam, best optimiser for deep learning models to help with the training\n",
    "optimizer = optimizers.Adam(learning_rate= 0.00001, decay= 1e-5)\n",
    "# setting our loss function and which metric to evaluate\n",
    "first_model.compile(loss= 'categorical_crossentropy', optimizer= optimizer,\n",
    "                    metrics=['AUC','acc'])\n",
    "\n",
    "# TRAIN\n",
    "history = first_model.fit(train_generator,\n",
    "                    epochs = 5,\n",
    "                    verbose = 1,\n",
    "                    validation_data = valid_generator,\n",
    "                    callbacks = [checkpointer, early_stopping])"
   ]
  },
  {
   "cell_type": "code",
   "execution_count": 5,
   "metadata": {},
   "outputs": [
    {
     "data": {
      "image/png": "[encoded data removed]",
      "text/plain": [
       "<Figure size 640x480 with 1 Axes>"
      ]
     },
     "metadata": {},
     "output_type": "display_data"
    }
   ],
   "source": [
    "# add history of accuracy and validation accuracy to the plot\n",
    "plt.plot(history.history['acc'], label = 'train',)\n",
    "plt.plot(history.history['val_acc'], label = 'valid')\n",
    "\n",
    "# adding legend and labels\n",
    "plt.legend(loc = 'lower right')\n",
    "plt.xlabel('epochs')\n",
    "plt.ylabel('accuracy')\n",
    "\n",
    "# show the plot\n",
    "plt.show()"
   ]
  },
  {
   "cell_type": "code",
   "execution_count": 6,
   "metadata": {},
   "outputs": [
    {
     "name": "stdout",
     "output_type": "stream",
     "text": [
      "25/25 [==============================] - 12s 450ms/step - loss: 0.2543 - auc: 0.9683 - acc: 0.9159\n"
     ]
    }
   ],
   "source": [
    "# see if it's good at predecting new inputs\n",
    "result = first_model.evaluate(test_generator)"
   ]
  },
  {
   "cell_type": "code",
   "execution_count": 7,
   "metadata": {},
   "outputs": [
    {
     "name": "stdout",
     "output_type": "stream",
     "text": [
      "25/25 [==============================] - 12s 456ms/step\n"
     ]
    }
   ],
   "source": [
    "# see if it's good at predecting new inputs\n",
    "result = first_model.predict(test_generator)"
   ]
  },
  {
   "cell_type": "code",
   "execution_count": 8,
   "metadata": {},
   "outputs": [
    {
     "data": {
      "text/plain": [
       "array([[0.9656742 , 0.03432578],\n",
       "       [0.9956352 , 0.00436479],\n",
       "       [0.9791196 , 0.02088046],\n",
       "       ...,\n",
       "       [0.33177572, 0.6682243 ],\n",
       "       [0.06591696, 0.934083  ],\n",
       "       [0.04055419, 0.9594458 ]], dtype=float32)"
      ]
     },
     "execution_count": 8,
     "metadata": {},
     "output_type": "execute_result"
    }
   ],
   "source": [
    "result"
   ]
  },
  {
   "cell_type": "code",
   "execution_count": 9,
   "metadata": {},
   "outputs": [
    {
     "data": {
      "text/plain": [
       "<sklearn.metrics._plot.confusion_matrix.ConfusionMatrixDisplay at 0x2d3be3e80>"
      ]
     },
     "execution_count": 9,
     "metadata": {},
     "output_type": "execute_result"
    },
    {
     "data": {
      "image/png": "[encoded data removed]",
      "text/plain": [
       "<Figure size 640x480 with 2 Axes>"
      ]
     },
     "metadata": {},
     "output_type": "display_data"
    }
   ],
   "source": [
    "class_labels = list(test_generator.class_indices.keys())\n",
    "y_prediction = result.argmax(axis=1)\n",
    "\n",
    "# Sklearn\n",
    "from sklearn.metrics import accuracy_score, confusion_matrix, ConfusionMatrixDisplay\n",
    "conf_matrix = confusion_matrix(y_true=test_generator.classes, y_pred=y_prediction)\n",
    "ConfusionMatrixDisplay(conf_matrix, display_labels=class_labels).plot()"
   ]
  },
  {
   "cell_type": "code",
   "execution_count": 10,
   "metadata": {},
   "outputs": [
    {
     "name": "stdout",
     "output_type": "stream",
     "text": [
      "25/25 [==============================] - 11s 447ms/step\n"
     ]
    }
   ],
   "source": [
    "predicted_probabilities = first_model.predict(test_generator)\n",
    "predicted_labels = np.argmax(predicted_probabilities, axis=1)\n",
    "\n",
    "ground_truth_labels = test_generator.classes\n",
    "\n",
    "from sklearn.metrics import confusion_matrix\n",
    "\n",
    "cm = confusion_matrix(ground_truth_labels, predicted_labels)"
   ]
  },
  {
   "cell_type": "code",
   "execution_count": 11,
   "metadata": {},
   "outputs": [
    {
     "data": {
      "text/plain": [
       "array([[2607,  213],\n",
       "       [ 317, 3163]])"
      ]
     },
     "execution_count": 11,
     "metadata": {},
     "output_type": "execute_result"
    }
   ],
   "source": [
    "cm"
   ]
  }
 ],
 "metadata": {
  "kernelspec": {
   "display_name": "CAS_courses_env",
   "language": "python",
   "name": "python3"
  },
  "language_info": {
   "codemirror_mode": {
    "name": "ipython",
    "version": 3
   },
   "file_extension": ".py",
   "mimetype": "text/x-python",
   "name": "python",
   "nbconvert_exporter": "python",
   "pygments_lexer": "ipython3",
   "version": "3.10.8"
  },
  "orig_nbformat": 4
 },
 "nbformat": 4,
 "nbformat_minor": 2
}
